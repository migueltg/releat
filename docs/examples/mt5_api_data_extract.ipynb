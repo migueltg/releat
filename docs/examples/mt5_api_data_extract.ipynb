{
 "cells": [
  {
   "cell_type": "markdown",
   "metadata": {},
   "source": [
    "# Data extraction via MT5 api\n",
    "\n",
    "Each trading symbol has its own process for the wine mt5 api. This is so that in production, we're able to reduce latency (at the cost of higher memory consumption) by pulling from one or more brokers in parallel.\n",
    "\n",
    "### PREREQUISITE - start mt5 apis\n",
    "\n",
    "Before running this notebooks, first launch the mt5 apis from the docker terminal using the command: \n",
    "\n",
    "`releat launch-all-mt5-apis`\n",
    "\n",
    "Alternatively, you can run it from your local terminal and execute on your docker container, replace `<container-name>` with the name of the container, which should either be `releat` or `releat-dc` depending on how you set it up:\n",
    "\n",
    "`docker exec -it <container-name> releat launch-all-mt5-apis`\n",
    "\n",
    "Launching wine processes from jupyter notebooks is unstable and mostly fails to start"
   ]
  },
  {
   "cell_type": "code",
   "execution_count": 1,
   "metadata": {},
   "outputs": [],
   "source": [
    "from releat.utils.configs.constants import mt5_api_port_map\n",
    "from concurrent.futures import ThreadPoolExecutor\n",
    "from releat.workflows.service_manager import kill_processes, get_pids, stop_mt5\n",
    "from releat.utils.logging import get_logger\n",
    "from releat.data.extractor import download_tick_data\n",
    "import logging\n",
    "from datetime import datetime\n",
    "logger = get_logger(__name__, log_level=logging.INFO)"
   ]
  },
  {
   "cell_type": "code",
   "execution_count": 2,
   "metadata": {},
   "outputs": [
    {
     "name": "stdout",
     "output_type": "stream",
     "text": [
      "An example of input list to the download_tick_data function:\n",
      "['metaquotes', 'EURUSD', datetime.datetime(2023, 9, 6, 10, 0), datetime.datetime(2023, 9, 6, 10, 0, 10, 1000), 'demo', False]\n"
     ]
    }
   ],
   "source": [
    "# start date - datetime must be in this format\n",
    "dt0 = datetime.strptime(\"2023-09-06 10:00:00.000\",\"%Y-%m-%d %H:%M:%S.%f\")\n",
    "# end date - excludes boundary\n",
    "dt1 = datetime.strptime(\"2023-09-06 10:00:10.001\",\"%Y-%m-%d %H:%M:%S.%f\")\n",
    "# data_mode - either demo or live\n",
    "data_mode = \"demo\"\n",
    "# check api - whether to check the connection, if failed, it will try to initialize the\n",
    "# connection. checking is skipped at inference\n",
    "check_api = False\n",
    "\n",
    "dl_args = []\n",
    "\n",
    "for broker, port_map in mt5_api_port_map.items():\n",
    "    for symbol, port in port_map.items():\n",
    "        # general is the port used for other interactions with mt5, i.e. order and\n",
    "        # getting position\n",
    "        if symbol!='general':\n",
    "            dl_arg = [broker,symbol,dt0,dt1,data_mode,check_api]\n",
    "            dl_args.append(dl_arg)\n",
    "\n",
    "print(\"An example of input list to the download_tick_data function:\")  \n",
    "print(dl_args[0])"
   ]
  },
  {
   "cell_type": "code",
   "execution_count": 3,
   "metadata": {},
   "outputs": [
    {
     "name": "stdout",
     "output_type": "stream",
     "text": [
      "\u001b[94m2023-11-04 10:35:44,096  INFO   releat.data.extractor  |  metaquotes AUDJPY 2023-09-06 10:00:00.000000 >> 2023-09-06 10:00:10.001000       65 ticks\u001b[0m\n"
     ]
    },
    {
     "data": {
      "text/plain": [
       "{'broker': 'metaquotes',\n",
       " 'symbol': 'AUDJPY',\n",
       " 'tick_df':        bid     ask  last  volume                time_msc  flags  volume_real\n",
       " 0   94.084  94.093   0.0       0 2023-09-06 10:00:00.016    130          0.0\n",
       " 1   94.083  94.092   0.0       0 2023-09-06 10:00:00.063    134          0.0\n",
       " 2   94.085  94.093   0.0       0 2023-09-06 10:00:00.116    134          0.0\n",
       " 3   94.085  94.094   0.0       0 2023-09-06 10:00:00.151      4          0.0\n",
       " 4   94.087  94.095   0.0       0 2023-09-06 10:00:00.174    134          0.0\n",
       " ..     ...     ...   ...     ...                     ...    ...          ...\n",
       " 60  94.071  94.079   0.0       0 2023-09-06 10:00:09.196    130          0.0\n",
       " 61  94.071  94.080   0.0       0 2023-09-06 10:00:09.345      4          0.0\n",
       " 62  94.074  94.082   0.0       0 2023-09-06 10:00:09.628    134          0.0\n",
       " 63  94.074  94.083   0.0       0 2023-09-06 10:00:09.677      4          0.0\n",
       " 64  94.075  94.084   0.0       0 2023-09-06 10:00:09.745    134          0.0\n",
       " \n",
       " [65 rows x 7 columns]}"
      ]
     },
     "execution_count": 3,
     "metadata": {},
     "output_type": "execute_result"
    }
   ],
   "source": [
    "# show example output of function\n",
    "download_tick_data(*dl_args[1])"
   ]
  },
  {
   "cell_type": "code",
   "execution_count": 4,
   "metadata": {},
   "outputs": [],
   "source": [
    "pool = ThreadPoolExecutor(len(dl_args))"
   ]
  },
  {
   "cell_type": "markdown",
   "metadata": {},
   "source": [
    "### Compare data extraction speed\n",
    "\n",
    "When run in parallel, the time taken to download data is at least 2x as fast as compared to in sequence. Note results will vary depending on internet speed and whether results are cached"
   ]
  },
  {
   "cell_type": "code",
   "execution_count": null,
   "metadata": {},
   "outputs": [],
   "source": [
    "%%timeit\n",
    "for dl_arg in dl_args:\n",
    "    download_tick_data(*dl_arg)"
   ]
  },
  {
   "cell_type": "code",
   "execution_count": null,
   "metadata": {},
   "outputs": [],
   "source": [
    "%%timeit\n",
    "list(pool.map(lambda p: download_tick_data(*p), dl_args))"
   ]
  },
  {
   "cell_type": "markdown",
   "metadata": {},
   "source": [
    "### Clean processes by deleting MT5 instances and apis"
   ]
  },
  {
   "cell_type": "code",
   "execution_count": 5,
   "metadata": {},
   "outputs": [
    {
     "name": "stdout",
     "output_type": "stream",
     "text": [
      "\u001b[94m2023-11-04 10:35:52,946  INFO   releat.workflows.service_manager  |  process id: 728095 killed\u001b[0m\n",
      "\u001b[94m2023-11-04 10:35:52,947  INFO   releat.workflows.service_manager  |  process id: 728698 killed\u001b[0m\n",
      "\u001b[94m2023-11-04 10:35:52,948  INFO   releat.workflows.service_manager  |  MetaTrader5 stopped: process ids [728095, 728698] killed\u001b[0m\n"
     ]
    }
   ],
   "source": [
    "# kill mt5\n",
    "stop_mt5()"
   ]
  },
  {
   "cell_type": "code",
   "execution_count": 6,
   "metadata": {},
   "outputs": [
    {
     "name": "stdout",
     "output_type": "stream",
     "text": [
      "\u001b[94m2023-11-04 10:35:55,953  INFO   releat.workflows.service_manager  |  process id: 727954 killed\u001b[0m\n",
      "mt5 apis stopped - process ids [727954] killed\n",
      "\u001b[94m2023-11-04 10:35:55,962  INFO   releat.workflows.service_manager  |  process id: 728002 killed\u001b[0m\n",
      "\u001b[94m2023-11-04 10:35:55,965  INFO   releat.workflows.service_manager  |  process id: 728057 killed\u001b[0m\n",
      "\u001b[94m2023-11-04 10:35:55,967  INFO   releat.workflows.service_manager  |  process id: 728152 killed\u001b[0m\n",
      "\u001b[94m2023-11-04 10:35:55,968  INFO   releat.workflows.service_manager  |  process id: 728248 killed\u001b[0m\n",
      "\u001b[94m2023-11-04 10:35:55,970  INFO   releat.workflows.service_manager  |  process id: 728283 killed\u001b[0m\n",
      "\u001b[94m2023-11-04 10:35:55,971  INFO   releat.workflows.service_manager  |  process id: 728343 killed\u001b[0m\n",
      "\u001b[94m2023-11-04 10:35:55,972  INFO   releat.workflows.service_manager  |  process id: 728380 killed\u001b[0m\n",
      "\u001b[94m2023-11-04 10:35:55,973  INFO   releat.workflows.service_manager  |  process id: 728444 killed\u001b[0m\n",
      "\u001b[94m2023-11-04 10:35:55,974  INFO   releat.workflows.service_manager  |  process id: 728485 killed\u001b[0m\n",
      "\u001b[94m2023-11-04 10:35:55,974  INFO   releat.workflows.service_manager  |  process id: 728558 killed\u001b[0m\n",
      "\u001b[94m2023-11-04 10:35:55,975  INFO   releat.workflows.service_manager  |  process id: 728595 killed\u001b[0m\n",
      "\u001b[94m2023-11-04 10:35:55,976  INFO   releat.workflows.service_manager  |  process id: 728665 killed\u001b[0m\n",
      "\u001b[94m2023-11-04 10:35:55,979  INFO   releat.workflows.service_manager  |  process id: 728755 killed\u001b[0m\n",
      "\u001b[94m2023-11-04 10:35:55,981  INFO   releat.workflows.service_manager  |  process id: 728844 killed\u001b[0m\n",
      "\u001b[94m2023-11-04 10:35:55,983  INFO   releat.workflows.service_manager  |  process id: 728879 killed\u001b[0m\n",
      "\u001b[94m2023-11-04 10:35:55,984  INFO   releat.workflows.service_manager  |  process id: 728960 killed\u001b[0m\n",
      "\u001b[94m2023-11-04 10:35:55,986  INFO   releat.workflows.service_manager  |  process id: 728991 killed\u001b[0m\n",
      "\u001b[94m2023-11-04 10:35:55,987  INFO   releat.workflows.service_manager  |  process id: 729070 killed\u001b[0m\n",
      "\u001b[94m2023-11-04 10:35:55,987  INFO   releat.workflows.service_manager  |  process id: 729105 killed\u001b[0m\n",
      "\u001b[94m2023-11-04 10:35:55,988  INFO   releat.workflows.service_manager  |  process id: 729186 already killed\u001b[0m\n"
     ]
    }
   ],
   "source": [
    "# kill mt5 api process ids\n",
    "pids = get_pids(\"wineserver\")\n",
    "kill_processes(pids)\n",
    "print(f\"mt5 apis stopped - process ids {pids} killed\")\n",
    "\n",
    "# kill wine processes\n",
    "pids = get_pids(\"python.exe\")\n",
    "kill_processes(pids)"
   ]
  }
 ],
 "metadata": {
  "kernelspec": {
   "display_name": "Python 3",
   "language": "python",
   "name": "python3"
  },
  "language_info": {
   "codemirror_mode": {
    "name": "ipython",
    "version": 3
   },
   "file_extension": ".py",
   "mimetype": "text/x-python",
   "name": "python",
   "nbconvert_exporter": "python",
   "pygments_lexer": "ipython3",
   "version": "3.10.10"
  }
 },
 "nbformat": 4,
 "nbformat_minor": 2
}
