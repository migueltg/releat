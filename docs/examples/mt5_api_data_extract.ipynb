{
 "cells": [
  {
   "cell_type": "markdown",
   "metadata": {},
   "source": [
    "# Data extraction via MT5 Api\n",
    "\n",
    "Each trading symbol has its own process for the wine mt5 api. This is so that in production, we're able to reduce latency (at the cost of higher memory consumption) by pulling from one or more brokers in parallel.\n",
    "\n",
    "### PREREQUISITE - start mt5 apis\n",
    "\n",
    "Before running this notebooks, first launch the mt5 apis from the docker terminal using the command: \n",
    "\n",
    "`releat launch-all-mt5-apis`\n",
    "\n",
    "Alternatively, you can run it from your local terminal and execute on your docker container, replace `<container-name>` with the name of the container, which should either be `releat` or `releat-dc` depending on how you set it up:\n",
    "\n",
    "`docker exec -it <container-name> releat launch-all-mt5-apis`\n",
    "\n",
    "Launching wine processes from jupyter notebooks is unstable and mostly fails to start"
   ]
  },
  {
   "cell_type": "code",
   "execution_count": null,
   "metadata": {},
   "outputs": [],
   "source": [
    "from releat.utils.configs.constants import mt5_api_port_map\n",
    "from concurrent.futures import ThreadPoolExecutor\n",
    "from releat.workflows.service_manager import kill_processes, get_pids, stop_mt5\n",
    "from releat.utils.logging import get_logger\n",
    "from releat.data.extractor import download_tick_data\n",
    "import logging\n",
    "from datetime import datetime\n",
    "logger = get_logger(__name__, log_level=logging.INFO)"
   ]
  },
  {
   "cell_type": "code",
   "execution_count": null,
   "metadata": {},
   "outputs": [],
   "source": [
    "# start date - datetime must be in this format\n",
    "dt0 = datetime.strptime(\"2023-09-06 10:00:00.000\",\"%Y-%m-%d %H:%M:%S.%f\")\n",
    "# end date - excludes boundary\n",
    "dt1 = datetime.strptime(\"2023-09-06 10:01:01.001\",\"%Y-%m-%d %H:%M:%S.%f\")\n",
    "# data_mode - either demo or live\n",
    "data_mode = \"demo\"\n",
    "# check api - whether to check the connection, if failed, it will try to initialize the\n",
    "# connection. checking is skipped at inference\n",
    "check_api = False\n",
    "\n",
    "dl_args = []\n",
    "\n",
    "for broker, port_map in mt5_api_port_map.items():\n",
    "    for symbol, port in port_map.items():\n",
    "        # general is the port used for other interactions with mt5, i.e. order and\n",
    "        # getting position\n",
    "        if symbol!='general':\n",
    "            dl_arg = [broker,symbol,dt0,dt1,data_mode,check_api]\n",
    "            dl_args.append(dl_arg)\n",
    "\n",
    "print(\"An example of input list to the download_tick_data function:\")  \n",
    "print(dl_args[0])"
   ]
  },
  {
   "cell_type": "code",
   "execution_count": null,
   "metadata": {},
   "outputs": [],
   "source": [
    "# show example output of function\n",
    "download_tick_data(*dl_args[1])"
   ]
  },
  {
   "cell_type": "code",
   "execution_count": null,
   "metadata": {},
   "outputs": [],
   "source": [
    "pool = ThreadPoolExecutor(len(dl_args))"
   ]
  },
  {
   "cell_type": "markdown",
   "metadata": {},
   "source": [
    "### Compare data extraction speed\n",
    "\n",
    "When run in parallel, the time taken to download data is at least 2x as fast as compared to in sequence. Note results will vary depending on internet speed and whether results are cached"
   ]
  },
  {
   "cell_type": "code",
   "execution_count": null,
   "metadata": {},
   "outputs": [],
   "source": [
    "%%timeit\n",
    "for dl_arg in dl_args:\n",
    "    download_tick_data(*dl_arg)"
   ]
  },
  {
   "cell_type": "code",
   "execution_count": null,
   "metadata": {},
   "outputs": [],
   "source": [
    "%%timeit\n",
    "list(pool.map(lambda p: download_tick_data(*p), dl_args))"
   ]
  },
  {
   "cell_type": "markdown",
   "metadata": {},
   "source": [
    "### Clean processes by deleting MT5 instances and apis"
   ]
  },
  {
   "cell_type": "code",
   "execution_count": null,
   "metadata": {},
   "outputs": [],
   "source": [
    "# kill mt5\n",
    "stop_mt5()"
   ]
  },
  {
   "cell_type": "code",
   "execution_count": null,
   "metadata": {},
   "outputs": [],
   "source": [
    "# kill mt5 api process ids\n",
    "pids = get_pids(\"wineserver\")\n",
    "kill_processes(pids)\n",
    "print(f\"mt5 apis stopped - process ids {pids} killed\")\n",
    "\n",
    "# kill wine processes\n",
    "pids = get_pids(\"python.exe\")\n",
    "kill_processes(pids)"
   ]
  }
 ],
 "metadata": {
  "kernelspec": {
   "display_name": "Python 3",
   "language": "python",
   "name": "python3"
  },
  "language_info": {
   "codemirror_mode": {
    "name": "ipython",
    "version": 3
   },
   "file_extension": ".py",
   "mimetype": "text/x-python",
   "name": "python",
   "nbconvert_exporter": "python",
   "pygments_lexer": "ipython3",
   "version": "3.10.10"
  }
 },
 "nbformat": 4,
 "nbformat_minor": 2
}
