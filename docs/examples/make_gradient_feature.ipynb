{
 "cells": [
  {
   "cell_type": "markdown",
   "metadata": {},
   "source": [
    "# Make Gradient Feature\n",
    "\n",
    "Example of how a feature is built. This notebook goes through each step in the `build_features_by_dt` function (and its components) in `releat/data/pipeline.py` script\n",
    "\n",
    "## PREREQUISITE - Download tick data\n",
    "\n",
    "Before running this notebook, download tick data from brokers by running the following command from within the docker container: \n",
    "\n",
    "`/.venv/bin/python /workspaces/releat/workflows/download_mt5_data.py`\n",
    "\n",
    "Alternatively, you can run it from your local terminal and execute on your docker container, replace `<container-name>` with the name of the container, which should either be `releat` or `releat-dc` depending on how you set it up:\n",
    "\n",
    "`docker exec -it <container-name> /.venv/bin/python /workspaces/releat/workflows/download_mt5_data.py`"
   ]
  },
  {
   "cell_type": "code",
   "execution_count": 1,
   "metadata": {},
   "outputs": [],
   "source": [
    "from releat.utils.logging import get_logger\n",
    "from releat.utils.configs.config_builder import load_config\n",
    "from releat.data.pipeline import load_raw_tick_data\n",
    "from releat.data.cleaning import group_tick_data_by_time\n",
    "from releat.data.simple.stats import calc_gradient_feature\n",
    "from releat.data.cleaning import fill_trade_interval\n",
    "from releat.data.transformers import get_transform_params\n",
    "import logging\n",
    "import polars as pl\n",
    "import pandas as pd\n",
    "logger = get_logger(__name__, log_level=logging.INFO)"
   ]
  },
  {
   "cell_type": "markdown",
   "metadata": {},
   "source": [
    "## Load feature config and data\n",
    "\n",
    "- For this example, see /agents/t00001/feature_config.py\n",
    "- The load_config function validates configs via pydantic as well as combines all the other config files in the /agents/t00001 folder"
   ]
  },
  {
   "cell_type": "code",
   "execution_count": 2,
   "metadata": {},
   "outputs": [],
   "source": [
    "config = load_config('t00001')"
   ]
  },
  {
   "cell_type": "code",
   "execution_count": 3,
   "metadata": {},
   "outputs": [
    {
     "data": {
      "text/plain": [
       "{'name': 'grad',\n",
       " 'broker': 'metaquotes',\n",
       " 'index': 3,\n",
       " 'symbol': 'EURUSD',\n",
       " 'timeframe': '5m',\n",
       " 'inputs': ['avg_price'],\n",
       " 'output_shape': (3, 1),\n",
       " 'timeframe_mode': 'rolling',\n",
       " 'kwargs': {'min_num': 10},\n",
       " 'fillna': 'zero',\n",
       " 'transforms': [TransformerConfig(name='clip', method='percentile', upper_lim=99.9, lower_lim=0.1, scale_factor=1, lam=None, mean=None, std=None, clip_min=None, clip_max=None, is_elementwise=None),\n",
       "  TransformerConfig(name='scale', method='PowerTransformer', upper_lim=None, lower_lim=None, scale_factor=None, lam=None, mean=None, std=None, clip_min=None, clip_max=None, is_elementwise=True),\n",
       "  TransformerConfig(name='scale', method='PiecewiseLinear', upper_lim=None, lower_lim=None, scale_factor=None, lam=None, mean=None, std=None, clip_min=None, clip_max=None, is_elementwise=None),\n",
       "  TransformerConfig(name='clip', method='value', upper_lim=3, lower_lim=-3, scale_factor=0.5, lam=None, mean=None, std=None, clip_min=None, clip_max=None, is_elementwise=None)]}"
      ]
     },
     "execution_count": 3,
     "metadata": {},
     "output_type": "execute_result"
    }
   ],
   "source": [
    "# Index of the feature group - in this case we want the 5m timeframe\n",
    "feat_group_ind = 1\n",
    "\n",
    "# Index of the feature within the feature group\n",
    "feat_ind = 3\n",
    "\n",
    "feat_group = config.features[feat_group_ind]\n",
    "fc = feat_group.simple_features[feat_ind]\n",
    "\n",
    "# the simple config that defines a single feature (conversion to dict is for printing only)\n",
    "dict(fc)"
   ]
  },
  {
   "cell_type": "code",
   "execution_count": 4,
   "metadata": {},
   "outputs": [
    {
     "data": {
      "text/html": [
       "<div><style>\n",
       ".dataframe > thead > tr > th,\n",
       ".dataframe > tbody > tr > td {\n",
       "  text-align: right;\n",
       "}\n",
       "</style>\n",
       "<small>shape: (10, 7)</small><table border=\"1\" class=\"dataframe\"><thead><tr><th>bid</th><th>ask</th><th>time_msc</th><th>avg_price</th><th>spread</th><th>time_diff</th><th>flags</th></tr><tr><td>f32</td><td>f32</td><td>datetime[ns]</td><td>f32</td><td>f32</td><td>f32</td><td>i32</td></tr></thead><tbody><tr><td>1.0733</td><td>1.07351</td><td>2023-05-31 00:01:27.515</td><td>1.073405</td><td>0.00021</td><td>null</td><td>6</td></tr><tr><td>1.07244</td><td>1.07344</td><td>2023-05-31 00:01:27.515</td><td>1.07294</td><td>0.001</td><td>0.0</td><td>6</td></tr><tr><td>1.07244</td><td>1.07344</td><td>2023-05-31 00:02:00.004</td><td>1.07294</td><td>0.001</td><td>32.488998</td><td>2</td></tr><tr><td>1.07244</td><td>1.07344</td><td>2023-05-31 00:03:17.075</td><td>1.07294</td><td>0.001</td><td>60.0</td><td>6</td></tr><tr><td>1.07244</td><td>1.07338</td><td>2023-05-31 00:03:47.987</td><td>1.07291</td><td>0.00094</td><td>30.912001</td><td>4</td></tr><tr><td>1.07243</td><td>1.07338</td><td>2023-05-31 00:04:12.446</td><td>1.072905</td><td>0.00095</td><td>24.459</td><td>2</td></tr><tr><td>1.07238</td><td>1.07338</td><td>2023-05-31 00:04:42.989</td><td>1.07288</td><td>0.001</td><td>30.542999</td><td>2</td></tr><tr><td>1.0724</td><td>1.07338</td><td>2023-05-31 00:04:59.963</td><td>1.07289</td><td>0.00098</td><td>16.974001</td><td>6</td></tr><tr><td>1.07245</td><td>1.07343</td><td>2023-05-31 00:05:00.079</td><td>1.07294</td><td>0.00098</td><td>0.116</td><td>6</td></tr><tr><td>1.07267</td><td>1.07348</td><td>2023-05-31 00:05:00.412</td><td>1.073075</td><td>0.00081</td><td>0.333</td><td>6</td></tr></tbody></table></div>"
      ],
      "text/plain": [
       "shape: (10, 7)\n",
       "┌─────────┬─────────┬─────────────────────────┬───────────┬─────────┬───────────┬───────┐\n",
       "│ bid     ┆ ask     ┆ time_msc                ┆ avg_price ┆ spread  ┆ time_diff ┆ flags │\n",
       "│ ---     ┆ ---     ┆ ---                     ┆ ---       ┆ ---     ┆ ---       ┆ ---   │\n",
       "│ f32     ┆ f32     ┆ datetime[ns]            ┆ f32       ┆ f32     ┆ f32       ┆ i32   │\n",
       "╞═════════╪═════════╪═════════════════════════╪═══════════╪═════════╪═══════════╪═══════╡\n",
       "│ 1.0733  ┆ 1.07351 ┆ 2023-05-31 00:01:27.515 ┆ 1.073405  ┆ 0.00021 ┆ null      ┆ 6     │\n",
       "│ 1.07244 ┆ 1.07344 ┆ 2023-05-31 00:01:27.515 ┆ 1.07294   ┆ 0.001   ┆ 0.0       ┆ 6     │\n",
       "│ 1.07244 ┆ 1.07344 ┆ 2023-05-31 00:02:00.004 ┆ 1.07294   ┆ 0.001   ┆ 32.488998 ┆ 2     │\n",
       "│ 1.07244 ┆ 1.07344 ┆ 2023-05-31 00:03:17.075 ┆ 1.07294   ┆ 0.001   ┆ 60.0      ┆ 6     │\n",
       "│ …       ┆ …       ┆ …                       ┆ …         ┆ …       ┆ …         ┆ …     │\n",
       "│ 1.07238 ┆ 1.07338 ┆ 2023-05-31 00:04:42.989 ┆ 1.07288   ┆ 0.001   ┆ 30.542999 ┆ 2     │\n",
       "│ 1.0724  ┆ 1.07338 ┆ 2023-05-31 00:04:59.963 ┆ 1.07289   ┆ 0.00098 ┆ 16.974001 ┆ 6     │\n",
       "│ 1.07245 ┆ 1.07343 ┆ 2023-05-31 00:05:00.079 ┆ 1.07294   ┆ 0.00098 ┆ 0.116     ┆ 6     │\n",
       "│ 1.07267 ┆ 1.07348 ┆ 2023-05-31 00:05:00.412 ┆ 1.073075  ┆ 0.00081 ┆ 0.333     ┆ 6     │\n",
       "└─────────┴─────────┴─────────────────────────┴───────────┴─────────┴───────────┴───────┘"
      ]
     },
     "execution_count": 4,
     "metadata": {},
     "output_type": "execute_result"
    }
   ],
   "source": [
    "# load tick data\n",
    "dt = '2023-06-01'\n",
    "symbol = fc.symbol\n",
    "broker = fc.broker\n",
    "tick_df = load_raw_tick_data(config, broker, symbol, dt)\n",
    "\n",
    "# For this example, reduce sample size so that it runs quickly\n",
    "tick_df = tick_df.head(100_000)\n",
    "\n",
    "# Note that this is a polars dataframe\n",
    "tick_df.head(10)"
   ]
  },
  {
   "cell_type": "code",
   "execution_count": 5,
   "metadata": {},
   "outputs": [
    {
     "data": {
      "text/html": [
       "<div><style>\n",
       ".dataframe > thead > tr > th,\n",
       ".dataframe > tbody > tr > td {\n",
       "  text-align: right;\n",
       "}\n",
       "</style>\n",
       "<small>shape: (10, 5)</small><table border=\"1\" class=\"dataframe\"><thead><tr><th>time_msc</th><th>min_datetime</th><th>max_datetime</th><th>num_ticks</th><th>price</th></tr><tr><td>datetime[ns]</td><td>datetime[ns]</td><td>datetime[ns]</td><td>u32</td><td>f32</td></tr></thead><tbody><tr><td>2023-05-31 00:01:20</td><td>2023-05-31 00:01:24.515</td><td>2023-05-31 00:06:14.865</td><td>31</td><td>1.073285</td></tr><tr><td>2023-05-31 00:01:30</td><td>2023-05-31 00:01:57.004</td><td>2023-05-31 00:06:28.442</td><td>31</td><td>1.07331</td></tr><tr><td>2023-05-31 00:01:40</td><td>2023-05-31 00:01:57.004</td><td>2023-05-31 00:06:36.972</td><td>34</td><td>1.07335</td></tr><tr><td>2023-05-31 00:01:50</td><td>2023-05-31 00:01:57.004</td><td>2023-05-31 00:06:49.958</td><td>37</td><td>1.07338</td></tr><tr><td>2023-05-31 00:02:00</td><td>2023-05-31 00:03:14.075</td><td>2023-05-31 00:06:58.499</td><td>40</td><td>1.073115</td></tr><tr><td>2023-05-31 00:02:10</td><td>2023-05-31 00:03:14.075</td><td>2023-05-31 00:06:58.499</td><td>40</td><td>1.073115</td></tr><tr><td>2023-05-31 00:02:20</td><td>2023-05-31 00:03:14.075</td><td>2023-05-31 00:06:58.499</td><td>40</td><td>1.073115</td></tr><tr><td>2023-05-31 00:02:30</td><td>2023-05-31 00:03:14.075</td><td>2023-05-31 00:07:20.782</td><td>41</td><td>1.07313</td></tr><tr><td>2023-05-31 00:02:40</td><td>2023-05-31 00:03:14.075</td><td>2023-05-31 00:07:20.782</td><td>41</td><td>1.07313</td></tr><tr><td>2023-05-31 00:02:50</td><td>2023-05-31 00:03:14.075</td><td>2023-05-31 00:07:45.719</td><td>42</td><td>1.073125</td></tr></tbody></table></div>"
      ],
      "text/plain": [
       "shape: (10, 5)\n",
       "┌─────────────────────┬─────────────────────────┬─────────────────────────┬───────────┬──────────┐\n",
       "│ time_msc            ┆ min_datetime            ┆ max_datetime            ┆ num_ticks ┆ price    │\n",
       "│ ---                 ┆ ---                     ┆ ---                     ┆ ---       ┆ ---      │\n",
       "│ datetime[ns]        ┆ datetime[ns]            ┆ datetime[ns]            ┆ u32       ┆ f32      │\n",
       "╞═════════════════════╪═════════════════════════╪═════════════════════════╪═══════════╪══════════╡\n",
       "│ 2023-05-31 00:01:20 ┆ 2023-05-31 00:01:24.515 ┆ 2023-05-31 00:06:14.865 ┆ 31        ┆ 1.073285 │\n",
       "│ 2023-05-31 00:01:30 ┆ 2023-05-31 00:01:57.004 ┆ 2023-05-31 00:06:28.442 ┆ 31        ┆ 1.07331  │\n",
       "│ 2023-05-31 00:01:40 ┆ 2023-05-31 00:01:57.004 ┆ 2023-05-31 00:06:36.972 ┆ 34        ┆ 1.07335  │\n",
       "│ 2023-05-31 00:01:50 ┆ 2023-05-31 00:01:57.004 ┆ 2023-05-31 00:06:49.958 ┆ 37        ┆ 1.07338  │\n",
       "│ …                   ┆ …                       ┆ …                       ┆ …         ┆ …        │\n",
       "│ 2023-05-31 00:02:20 ┆ 2023-05-31 00:03:14.075 ┆ 2023-05-31 00:06:58.499 ┆ 40        ┆ 1.073115 │\n",
       "│ 2023-05-31 00:02:30 ┆ 2023-05-31 00:03:14.075 ┆ 2023-05-31 00:07:20.782 ┆ 41        ┆ 1.07313  │\n",
       "│ 2023-05-31 00:02:40 ┆ 2023-05-31 00:03:14.075 ┆ 2023-05-31 00:07:20.782 ┆ 41        ┆ 1.07313  │\n",
       "│ 2023-05-31 00:02:50 ┆ 2023-05-31 00:03:14.075 ┆ 2023-05-31 00:07:45.719 ┆ 42        ┆ 1.073125 │\n",
       "└─────────────────────┴─────────────────────────┴─────────────────────────┴───────────┴──────────┘"
      ]
     },
     "execution_count": 5,
     "metadata": {},
     "output_type": "execute_result"
    }
   ],
   "source": [
    "df_group = group_tick_data_by_time(config, feat_group_ind, tick_df)\n",
    "\n",
    "# Print some summary statistics\n",
    "summary = df_group.agg(\n",
    "    [\n",
    "        pl.col(\"time_msc\").min().alias(\"min_datetime\"),\n",
    "        pl.col(\"time_msc\").max().alias(\"max_datetime\"),\n",
    "        pl.col(\"time_msc\").count().alias(\"num_ticks\"),\n",
    "        pl.col(\"avg_price\").last().alias(\"price\")\n",
    "    ]\n",
    ")\n",
    "summary.head(10)"
   ]
  },
  {
   "cell_type": "markdown",
   "metadata": {},
   "source": [
    "For this group by, note that:\n",
    "\n",
    "- the column `time_msc` will be used as the index for building the feature\n",
    "- the column `time_msc` increments in 10s, which is defined as the `trade_timeframe` parameter in `agents/t00001/agent_config.py`\n",
    "- the `min_datetime` and `max_datetime` look forward, i.e. for the timestamp `2023-05-31 00:01:20`, the maximum datetime in that group is `2023-05-31 00:06:14.865`. The time shift so that the feature done after the feature is build, i.e. later the timestamp for this group will be converted to `2023-05-31 00:06:20`"
   ]
  },
  {
   "cell_type": "markdown",
   "metadata": {},
   "source": [
    "## Make Feature\n",
    "\n",
    "This is mostly taken from the `make_feature` function of `releat/data/pipeline.py`"
   ]
  },
  {
   "cell_type": "code",
   "execution_count": 6,
   "metadata": {},
   "outputs": [
    {
     "data": {
      "text/html": [
       "<div><style>\n",
       ".dataframe > thead > tr > th,\n",
       ".dataframe > tbody > tr > td {\n",
       "  text-align: right;\n",
       "}\n",
       "</style>\n",
       "<small>shape: (10, 2)</small><table border=\"1\" class=\"dataframe\"><thead><tr><th>time_msc</th><th>feat</th></tr><tr><td>datetime[ns]</td><td>f32</td></tr></thead><tbody><tr><td>2023-05-31 00:01:20</td><td>22.116541</td></tr><tr><td>2023-05-31 00:01:30</td><td>46.846035</td></tr><tr><td>2023-05-31 00:01:40</td><td>48.993492</td></tr><tr><td>2023-05-31 00:01:50</td><td>50.637402</td></tr><tr><td>2023-05-31 00:02:00</td><td>53.60508</td></tr><tr><td>2023-05-31 00:02:10</td><td>53.60508</td></tr><tr><td>2023-05-31 00:02:20</td><td>53.60508</td></tr><tr><td>2023-05-31 00:02:30</td><td>50.997505</td></tr><tr><td>2023-05-31 00:02:40</td><td>50.997505</td></tr><tr><td>2023-05-31 00:02:50</td><td>47.326023</td></tr></tbody></table></div>"
      ],
      "text/plain": [
       "shape: (10, 2)\n",
       "┌─────────────────────┬───────────┐\n",
       "│ time_msc            ┆ feat      │\n",
       "│ ---                 ┆ ---       │\n",
       "│ datetime[ns]        ┆ f32       │\n",
       "╞═════════════════════╪═══════════╡\n",
       "│ 2023-05-31 00:01:20 ┆ 22.116541 │\n",
       "│ 2023-05-31 00:01:30 ┆ 46.846035 │\n",
       "│ 2023-05-31 00:01:40 ┆ 48.993492 │\n",
       "│ 2023-05-31 00:01:50 ┆ 50.637402 │\n",
       "│ …                   ┆ …         │\n",
       "│ 2023-05-31 00:02:20 ┆ 53.60508  │\n",
       "│ 2023-05-31 00:02:30 ┆ 50.997505 │\n",
       "│ 2023-05-31 00:02:40 ┆ 50.997505 │\n",
       "│ 2023-05-31 00:02:50 ┆ 47.326023 │\n",
       "└─────────────────────┴───────────┘"
      ]
     },
     "execution_count": 6,
     "metadata": {},
     "output_type": "execute_result"
    }
   ],
   "source": [
    "feature_timeframe = fc.timeframe\n",
    "trade_timeframe = config.raw_data.trade_timeframe\n",
    "pip = config.symbol_info[config.symbol_info_index[fc.symbol]].pip\n",
    "\n",
    "# make the gradient feature\n",
    "df = calc_gradient_feature(df_group, fc, pip)\n",
    "\n",
    "df.head(10)"
   ]
  },
  {
   "cell_type": "markdown",
   "metadata": {},
   "source": [
    "As noted above, then clean the `time_msc` column by making sure its the correct type and adding a time offset. The timestamp label for each feature should refer to the right boundary, i.e. the gradient feature for `2023-05-31 00:06:20` refers to tick data that happens between `2023-05-31 00:01:20` (inclusive) and `2023-05-31 00:06:20` (excluding this timestamp)\n",
    "\n",
    "We also shift the feature by a trade time offset, which represents the lag or number of seconds that the agent makes a trade after the information is available. For this example, this lag is set to 3s."
   ]
  },
  {
   "cell_type": "code",
   "execution_count": 7,
   "metadata": {},
   "outputs": [
    {
     "data": {
      "text/html": [
       "<div><style>\n",
       ".dataframe > thead > tr > th,\n",
       ".dataframe > tbody > tr > td {\n",
       "  text-align: right;\n",
       "}\n",
       "</style>\n",
       "<small>shape: (10, 2)</small><table border=\"1\" class=\"dataframe\"><thead><tr><th>time_msc</th><th>feat</th></tr><tr><td>datetime[ns]</td><td>f32</td></tr></thead><tbody><tr><td>2023-05-31 00:06:23</td><td>22.116541</td></tr><tr><td>2023-05-31 00:06:33</td><td>46.846035</td></tr><tr><td>2023-05-31 00:06:43</td><td>48.993492</td></tr><tr><td>2023-05-31 00:06:53</td><td>50.637402</td></tr><tr><td>2023-05-31 00:07:03</td><td>53.60508</td></tr><tr><td>2023-05-31 00:07:13</td><td>53.60508</td></tr><tr><td>2023-05-31 00:07:23</td><td>53.60508</td></tr><tr><td>2023-05-31 00:07:33</td><td>50.997505</td></tr><tr><td>2023-05-31 00:07:43</td><td>50.997505</td></tr><tr><td>2023-05-31 00:07:53</td><td>47.326023</td></tr></tbody></table></div>"
      ],
      "text/plain": [
       "shape: (10, 2)\n",
       "┌─────────────────────┬───────────┐\n",
       "│ time_msc            ┆ feat      │\n",
       "│ ---                 ┆ ---       │\n",
       "│ datetime[ns]        ┆ f32       │\n",
       "╞═════════════════════╪═══════════╡\n",
       "│ 2023-05-31 00:06:23 ┆ 22.116541 │\n",
       "│ 2023-05-31 00:06:33 ┆ 46.846035 │\n",
       "│ 2023-05-31 00:06:43 ┆ 48.993492 │\n",
       "│ 2023-05-31 00:06:53 ┆ 50.637402 │\n",
       "│ …                   ┆ …         │\n",
       "│ 2023-05-31 00:07:23 ┆ 53.60508  │\n",
       "│ 2023-05-31 00:07:33 ┆ 50.997505 │\n",
       "│ 2023-05-31 00:07:43 ┆ 50.997505 │\n",
       "│ 2023-05-31 00:07:53 ┆ 47.326023 │\n",
       "└─────────────────────┴───────────┘"
      ]
     },
     "execution_count": 7,
     "metadata": {},
     "output_type": "execute_result"
    }
   ],
   "source": [
    "df = df.with_columns(pl.col(\"time_msc\").dt.cast_time_unit(\"ns\"))\n",
    "df = df.with_columns(pl.col(\"time_msc\").dt.offset_by(feature_timeframe)).with_columns(\n",
    "        pl.col(\"time_msc\").dt.offset_by(config.raw_data.trade_time_offset),\n",
    "    )\n",
    "df.head(10)    "
   ]
  },
  {
   "cell_type": "code",
   "execution_count": 8,
   "metadata": {},
   "outputs": [
    {
     "name": "stdout",
     "output_type": "stream",
     "text": [
      "feature set length before fill: 12347\n",
      "feature set length after fill: 12355\n"
     ]
    }
   ],
   "source": [
    "# Fill any NAs in the dataset according to the feature config, also fill in any missing\n",
    "# timeframes\n",
    "print(f\"feature set length before fill: {len(df)}\")\n",
    "df = fill_trade_interval(df, trade_timeframe, fc.fillna)\n",
    "print(f\"feature set length after fill: {len(df)}\")"
   ]
  },
  {
   "cell_type": "markdown",
   "metadata": {},
   "source": [
    "## Scale and Transform Feature\n",
    "\n",
    "Note that this overwrites any existing scaling parameters in `data/agent/t00001/features/1_5m/3_grad/transforms`"
   ]
  },
  {
   "cell_type": "code",
   "execution_count": 9,
   "metadata": {},
   "outputs": [
    {
     "data": {
      "text/plain": [
       "[TransformerConfig(name='clip', method='percentile', upper_lim=99.9, lower_lim=0.1, scale_factor=1, lam=None, mean=None, std=None, clip_min=None, clip_max=None, is_elementwise=None),\n",
       " TransformerConfig(name='scale', method='PowerTransformer', upper_lim=None, lower_lim=None, scale_factor=None, lam=None, mean=None, std=None, clip_min=None, clip_max=None, is_elementwise=True),\n",
       " TransformerConfig(name='scale', method='PiecewiseLinear', upper_lim=None, lower_lim=None, scale_factor=None, lam=None, mean=None, std=None, clip_min=None, clip_max=None, is_elementwise=None),\n",
       " TransformerConfig(name='clip', method='value', upper_lim=3, lower_lim=-3, scale_factor=0.5, lam=None, mean=None, std=None, clip_min=None, clip_max=None, is_elementwise=None)]"
      ]
     },
     "execution_count": 9,
     "metadata": {},
     "output_type": "execute_result"
    }
   ],
   "source": [
    "# The transforms are specified per feature config\n",
    "fc.transforms"
   ]
  },
  {
   "cell_type": "code",
   "execution_count": 10,
   "metadata": {},
   "outputs": [
    {
     "data": {
      "text/plain": [
       "array([[0.44273528],\n",
       "       [0.9170695 ],\n",
       "       [0.95826584],\n",
       "       [0.9898029 ],\n",
       "       [1.0233682 ],\n",
       "       [1.0233682 ],\n",
       "       [1.0233682 ],\n",
       "       [0.99671125],\n",
       "       [0.99671125],\n",
       "       [0.9262774 ]], dtype=float32)"
      ]
     },
     "execution_count": 10,
     "metadata": {},
     "output_type": "execute_result"
    }
   ],
   "source": [
    "cols = [x for x in df.columns if x != \"time_msc\"]\n",
    "feats = df.select(cols).to_numpy()\n",
    "\n",
    "feats_t = get_transform_params(config, feat_group_ind, feat_ind, feats)\n",
    "feats_t[:10]"
   ]
  },
  {
   "cell_type": "markdown",
   "metadata": {},
   "source": [
    "## Visualize Feature\n",
    "\n",
    "For the purposes of visualising, the datasets are roughly joined together. i.e. the filled in dataset has more records than the initial summary, but in this example the differences are small and is ignored"
   ]
  },
  {
   "cell_type": "code",
   "execution_count": 11,
   "metadata": {},
   "outputs": [
    {
     "data": {
      "text/html": [
       "<div>\n",
       "<style scoped>\n",
       "    .dataframe tbody tr th:only-of-type {\n",
       "        vertical-align: middle;\n",
       "    }\n",
       "\n",
       "    .dataframe tbody tr th {\n",
       "        vertical-align: top;\n",
       "    }\n",
       "\n",
       "    .dataframe thead th {\n",
       "        text-align: right;\n",
       "    }\n",
       "</style>\n",
       "<table border=\"1\" class=\"dataframe\">\n",
       "  <thead>\n",
       "    <tr style=\"text-align: right;\">\n",
       "      <th></th>\n",
       "      <th>time_msc</th>\n",
       "      <th>min_datetime</th>\n",
       "      <th>max_datetime</th>\n",
       "      <th>num_ticks</th>\n",
       "      <th>price</th>\n",
       "      <th>feature</th>\n",
       "    </tr>\n",
       "  </thead>\n",
       "  <tbody>\n",
       "    <tr>\n",
       "      <th>0</th>\n",
       "      <td>2023-05-31 00:01:20</td>\n",
       "      <td>2023-05-31 00:01:24.515</td>\n",
       "      <td>2023-05-31 00:06:14.865</td>\n",
       "      <td>31</td>\n",
       "      <td>1.073285</td>\n",
       "      <td>0.442735</td>\n",
       "    </tr>\n",
       "    <tr>\n",
       "      <th>1</th>\n",
       "      <td>2023-05-31 00:01:30</td>\n",
       "      <td>2023-05-31 00:01:57.004</td>\n",
       "      <td>2023-05-31 00:06:28.442</td>\n",
       "      <td>31</td>\n",
       "      <td>1.073310</td>\n",
       "      <td>0.917069</td>\n",
       "    </tr>\n",
       "    <tr>\n",
       "      <th>2</th>\n",
       "      <td>2023-05-31 00:01:40</td>\n",
       "      <td>2023-05-31 00:01:57.004</td>\n",
       "      <td>2023-05-31 00:06:36.972</td>\n",
       "      <td>34</td>\n",
       "      <td>1.073350</td>\n",
       "      <td>0.958266</td>\n",
       "    </tr>\n",
       "    <tr>\n",
       "      <th>3</th>\n",
       "      <td>2023-05-31 00:01:50</td>\n",
       "      <td>2023-05-31 00:01:57.004</td>\n",
       "      <td>2023-05-31 00:06:49.958</td>\n",
       "      <td>37</td>\n",
       "      <td>1.073380</td>\n",
       "      <td>0.989803</td>\n",
       "    </tr>\n",
       "    <tr>\n",
       "      <th>4</th>\n",
       "      <td>2023-05-31 00:02:00</td>\n",
       "      <td>2023-05-31 00:03:14.075</td>\n",
       "      <td>2023-05-31 00:06:58.499</td>\n",
       "      <td>40</td>\n",
       "      <td>1.073115</td>\n",
       "      <td>1.023368</td>\n",
       "    </tr>\n",
       "    <tr>\n",
       "      <th>5</th>\n",
       "      <td>2023-05-31 00:02:10</td>\n",
       "      <td>2023-05-31 00:03:14.075</td>\n",
       "      <td>2023-05-31 00:06:58.499</td>\n",
       "      <td>40</td>\n",
       "      <td>1.073115</td>\n",
       "      <td>1.023368</td>\n",
       "    </tr>\n",
       "    <tr>\n",
       "      <th>6</th>\n",
       "      <td>2023-05-31 00:02:20</td>\n",
       "      <td>2023-05-31 00:03:14.075</td>\n",
       "      <td>2023-05-31 00:06:58.499</td>\n",
       "      <td>40</td>\n",
       "      <td>1.073115</td>\n",
       "      <td>1.023368</td>\n",
       "    </tr>\n",
       "    <tr>\n",
       "      <th>7</th>\n",
       "      <td>2023-05-31 00:02:30</td>\n",
       "      <td>2023-05-31 00:03:14.075</td>\n",
       "      <td>2023-05-31 00:07:20.782</td>\n",
       "      <td>41</td>\n",
       "      <td>1.073130</td>\n",
       "      <td>0.996711</td>\n",
       "    </tr>\n",
       "    <tr>\n",
       "      <th>8</th>\n",
       "      <td>2023-05-31 00:02:40</td>\n",
       "      <td>2023-05-31 00:03:14.075</td>\n",
       "      <td>2023-05-31 00:07:20.782</td>\n",
       "      <td>41</td>\n",
       "      <td>1.073130</td>\n",
       "      <td>0.996711</td>\n",
       "    </tr>\n",
       "    <tr>\n",
       "      <th>9</th>\n",
       "      <td>2023-05-31 00:02:50</td>\n",
       "      <td>2023-05-31 00:03:14.075</td>\n",
       "      <td>2023-05-31 00:07:45.719</td>\n",
       "      <td>42</td>\n",
       "      <td>1.073125</td>\n",
       "      <td>0.926277</td>\n",
       "    </tr>\n",
       "  </tbody>\n",
       "</table>\n",
       "</div>"
      ],
      "text/plain": [
       "             time_msc            min_datetime            max_datetime  \\\n",
       "0 2023-05-31 00:01:20 2023-05-31 00:01:24.515 2023-05-31 00:06:14.865   \n",
       "1 2023-05-31 00:01:30 2023-05-31 00:01:57.004 2023-05-31 00:06:28.442   \n",
       "2 2023-05-31 00:01:40 2023-05-31 00:01:57.004 2023-05-31 00:06:36.972   \n",
       "3 2023-05-31 00:01:50 2023-05-31 00:01:57.004 2023-05-31 00:06:49.958   \n",
       "4 2023-05-31 00:02:00 2023-05-31 00:03:14.075 2023-05-31 00:06:58.499   \n",
       "5 2023-05-31 00:02:10 2023-05-31 00:03:14.075 2023-05-31 00:06:58.499   \n",
       "6 2023-05-31 00:02:20 2023-05-31 00:03:14.075 2023-05-31 00:06:58.499   \n",
       "7 2023-05-31 00:02:30 2023-05-31 00:03:14.075 2023-05-31 00:07:20.782   \n",
       "8 2023-05-31 00:02:40 2023-05-31 00:03:14.075 2023-05-31 00:07:20.782   \n",
       "9 2023-05-31 00:02:50 2023-05-31 00:03:14.075 2023-05-31 00:07:45.719   \n",
       "\n",
       "   num_ticks     price   feature  \n",
       "0         31  1.073285  0.442735  \n",
       "1         31  1.073310  0.917069  \n",
       "2         34  1.073350  0.958266  \n",
       "3         37  1.073380  0.989803  \n",
       "4         40  1.073115  1.023368  \n",
       "5         40  1.073115  1.023368  \n",
       "6         40  1.073115  1.023368  \n",
       "7         41  1.073130  0.996711  \n",
       "8         41  1.073130  0.996711  \n",
       "9         42  1.073125  0.926277  "
      ]
     },
     "execution_count": 11,
     "metadata": {},
     "output_type": "execute_result"
    }
   ],
   "source": [
    "feats_t = feats_t[:len(summary),0]\n",
    "summary = summary.to_pandas()\n",
    "summary[\"feature\"] = feats_t\n",
    "summary.head(10)"
   ]
  },
  {
   "cell_type": "code",
   "execution_count": 12,
   "metadata": {},
   "outputs": [
    {
     "data": {
      "text/plain": [
       "<Axes: xlabel='time_msc'>"
      ]
     },
     "execution_count": 12,
     "metadata": {},
     "output_type": "execute_result"
    },
    {
     "data": {
      "image/png": "[encoded data removed]",
      "text/plain": [
       "<Figure size 800x500 with 2 Axes>"
      ]
     },
     "metadata": {},
     "output_type": "display_data"
    }
   ],
   "source": [
    "summary.set_index(\"time_msc\",inplace=True)\n",
    "summary = summary[[\"price\",\"feature\"]]\n",
    "summary.iloc[800:1000].plot(secondary_y='price', figsize=(8, 5))"
   ]
  }
 ],
 "metadata": {
  "kernelspec": {
   "display_name": "Python 3",
   "language": "python",
   "name": "python3"
  },
  "language_info": {
   "codemirror_mode": {
    "name": "ipython",
    "version": 3
   },
   "file_extension": ".py",
   "mimetype": "text/x-python",
   "name": "python",
   "nbconvert_exporter": "python",
   "pygments_lexer": "ipython3",
   "version": "3.10.10"
  }
 },
 "nbformat": 4,
 "nbformat_minor": 2
}
